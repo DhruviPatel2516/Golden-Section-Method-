{
  "nbformat": 4,
  "nbformat_minor": 0,
  "metadata": {
    "colab": {
      "provenance": []
    },
    "kernelspec": {
      "name": "python3",
      "display_name": "Python 3"
    },
    "language_info": {
      "name": "python"
    }
  },
  "cells": [
    {
      "cell_type": "code",
      "execution_count": null,
      "metadata": {
        "colab": {
          "base_uri": "https://localhost:8080/"
        },
        "id": "1A1EoHfEe0iV",
        "outputId": "e0afe071-12fb-49b6-893a-5d991f01e15b"
      },
      "outputs": [
        {
          "output_type": "stream",
          "name": "stdout",
          "text": [
            "0 0 0.382 0.618 1.0\n",
            "1 0.382 0.6180760000000001 0.763924 1.0\n",
            "2 0.382 0.527894968 0.618029032 0.763924\n",
            "3 0.527894968 0.6180580582240001 0.673760909776 0.763924\n",
            "Final Solution is:  0.600836907991216\n",
            "Iteration counter:  4\n",
            "0 0 0.382 0.618 1.0\n",
            "1 0.382 0.6180760000000001 0.763924 1.0\n",
            "2 0.382 0.527894968 0.618029032 0.763924\n",
            "3 0.527894968 0.6180580582240001 0.673760909776 0.763924\n",
            "Final Solution is:  0.600836907991216\n",
            "Iteration counter:  4\n"
          ]
        }
      ],
      "source": [
        "# Minimize f(x)=4x^3+ x^2-7x+14 within the interval (0,1) using Golden section method.\n",
        "\n",
        "import numpy as np\n",
        "g = lambda x: 4*(x)**3 + (x)*2 -7*(x) + 14\n",
        "def goldenopt(f,x_l, x_u, tol, max_iter):\n",
        "    iter_ctr = 0\n",
        "    while (x_u-x_l)>tol and iter_ctr<max_iter:\n",
        "        x_r1 = x_u - 0.618*(x_u - x_l)\n",
        "        x_r2 = x_l + 0.618*(x_u - x_l)\n",
        "        print(iter_ctr, x_l, x_r1, x_r2, x_u)\n",
        "        if f(x_r1) <= f(x_r2):\n",
        "            x_u = x_r2\n",
        "            x_r2 = x_r1\n",
        "            x_r1 = x_u - 0.618*(x_u - x_l)\n",
        "        else:\n",
        "            x_l = x_r1\n",
        "            x_r1 = x_r2\n",
        "            x_r2  = x_l + 0.618*(x_u - x_l)\n",
        "        iter_ctr = iter_ctr + 1\n",
        "    return (x_r1 + x_r2)/2.0, iter_ctr\n",
        "    \n",
        "x_l_init = 0\n",
        "x_u_init = 1.0\n",
        "tolerance = 0.15\n",
        "max_iter = 100\n",
        "x_f, iter_ctr = goldenopt(g, x_l_init, x_u_init, tolerance, max_iter)\n",
        "print(\"Final Solution is: \", x_f)\n",
        "print(\"Iteration counter: \", iter_ctr)\n",
        "import numpy as np\n",
        "g = lambda x: 4*(x)**3 + (x)*2 -7*(x) + 14\n",
        "def goldenopt(f,x_l, x_u, tol, max_iter):\n",
        "    iter_ctr = 0\n",
        "    while (x_u-x_l)>tol and iter_ctr<max_iter:\n",
        "        x_r1 = x_u - 0.618*(x_u - x_l)\n",
        "        x_r2 = x_l + 0.618*(x_u - x_l)\n",
        "        print(iter_ctr, x_l, x_r1, x_r2, x_u)\n",
        "        if f(x_r1) <= f(x_r2):\n",
        "            x_u = x_r2\n",
        "            x_r2 = x_r1\n",
        "            x_r1 = x_u - 0.618*(x_u - x_l)\n",
        "        else:\n",
        "            x_l = x_r1\n",
        "            x_r1 = x_r2\n",
        "            x_r2  = x_l + 0.618*(x_u - x_l)\n",
        "        iter_ctr = iter_ctr + 1\n",
        "    return (x_r1 + x_r2)/2.0, iter_ctr\n",
        "    \n",
        "x_l_init = 0\n",
        "x_u_init = 1.0\n",
        "tolerance = 0.15\n",
        "max_iter = 100\n",
        "x_f, iter_ctr = goldenopt(g, x_l_init, x_u_init, tolerance, max_iter)\n",
        "print(\"Final Solution is: \", x_f)\n",
        "print(\"Iteration counter: \", iter_ctr)\n"
      ]
    },
    {
      "cell_type": "code",
      "source": [
        "# Minimize f(x)=\" \" 〖(x -1)〗^2+ e^x  within the interval (0,2) using Golden section method.\n",
        "\n",
        "\n",
        "import numpy as np\n",
        "g = lambda x:  (x-1)**2 + np.exp(x)\n",
        "def goldenopt(f,x_l, x_u, tol, max_iter):\n",
        "    iter_ctr = 0\n",
        "    while (x_u-x_l)>tol and iter_ctr<max_iter:\n",
        "        x_r1 = x_l + 0.618*(x_u - x_l)\n",
        "        x_r2 = x_u - 0.618*(x_u - x_l)\n",
        "        print(iter_ctr, x_l, x_r1, x_r2, x_u)\n",
        "        if f(x_r1) <= f(x_r2):\n",
        "            x_u = x_r1\n",
        "            x_r1 = x_r2\n",
        "            x_r2 = x_u - 0.618*(x_u - x_l)\n",
        "        else:\n",
        "            x_l = x_r2\n",
        "            x_r2 = x_r1\n",
        "            x_r1  = x_l + 0.618*(x_u - x_l)\n",
        "        iter_ctr = iter_ctr + 1\n",
        "    return (x_r1 + x_r2)/2.0, iter_ctr\n",
        "    \n",
        "x_l_init = 0\n",
        "x_u_init = 2\n",
        "tolerance = 0.0001\n",
        "max_iter = 100\n",
        "x_f, iter_ctr = goldenopt(g, x_l_init, x_u_init, tolerance, max_iter)\n",
        "print(\"Final Solution is: \", x_f)\n",
        "print(\"Iteration counter: \", iter_ctr)\n"
      ],
      "metadata": {
        "colab": {
          "base_uri": "https://localhost:8080/"
        },
        "id": "7D0YnVsogA7B",
        "outputId": "60c17880-9721-4aa7-f772-79b38600ad01"
      },
      "execution_count": null,
      "outputs": [
        {
          "output_type": "stream",
          "name": "stdout",
          "text": [
            "0 0 1.236 0.764 2\n",
            "1 0.764 1.527848 1.2361520000000001 2\n",
            "2 1.2361520000000001 1.708210064 1.5279419360000002 2\n",
            "3 1.5279419360000002 1.8196738195520001 1.708268116448 2\n",
            "4 1.708268116448 1.888558420483136 1.819709695964864 2\n",
            "5 1.819709695964864 1.931129103858578 1.888580592106286 2\n",
            "6 1.888580592106286 1.9574377861846013 1.9311428059216846 2\n",
            "7 1.9311428059216846 1.9736965518620835 1.9574462540596012 2\n",
            "8 1.9574462540596012 1.9837444690507677 1.9737017850088334 2\n",
            "9 1.9737017850088334 1.9899540818733743 1.9837477031354591 2\n",
            "10 1.9837477031354591 1.9937916225977454 1.9899560805377137 2\n",
            "11 1.9899560805377137 1.9961632227654067 1.993792857772307 2\n",
            "12 1.993792857772307 1.9976288716690214 1.9961639861032856 2\n",
            "13 1.9961639861032856 1.9985346426914552 1.9976293434118304 2\n",
            "14 1.9976293434118304 1.9990944091833192 1.9985349342285113 2\n",
            "15 1.9985349342285113 1.9994403448752913 1.99909458935322 2\n",
            "16 1.99909458935322 1.99965413313293 1.9994404562202899 2\n",
            "17 1.9994404562202899 1.9997862542761506 1.9996542019441392 2\n",
            "18 1.9996542019441392 1.999867905142661 1.9997862968014781 2\n",
            "19 1.9997862968014781 1.9999183653781647 1.9998679314233134 2\n",
            "20 1.9998679314233134 1.9999495498037057 1.9999183816196078 2\n",
            "Final Solution is:  1.999959185791198\n",
            "Iteration counter:  21\n"
          ]
        }
      ]
    },
    {
      "cell_type": "code",
      "source": [
        "#Minimize f(x)=e^x+ e^((-x))  within the interval (-1,1) using Golden section method.\n",
        "\n",
        "\n",
        "import numpy as np\n",
        "g = lambda x: np.exp(x) + np.exp(-x)\n",
        "def goldenopt(f,x_l, x_u, tol, max_iter):\n",
        "    iter_ctr = 0\n",
        "    while (x_u-x_l)>tol and iter_ctr<max_iter:\n",
        "        x_r1 = x_u - 0.618*(x_u - x_l)\n",
        "        x_r2 = x_l + 0.618*(x_u - x_l)\n",
        "        print(iter_ctr, x_l, x_r1, x_r2, x_u)\n",
        "        if f(x_r2) <= f(x_r1):\n",
        "            x_u = x_r2\n",
        "            x_r2 = x_r1\n",
        "            x_r1 = x_u - 0.618*(x_u - x_l)\n",
        "        else:\n",
        "            x_l = x_r1\n",
        "            x_r1 = x_r2\n",
        "            x_r2  = x_l + 0.618*(x_u - x_l)\n",
        "        iter_ctr = iter_ctr + 1\n",
        "    return (x_r1 + x_r2)/2.0, iter_ctr\n",
        "    \n",
        "x_l_init = -1\n",
        "x_u_init = 1\n",
        "tolerance = 0.15\n",
        "                        \n",
        "max_iter = 100\n",
        "x_f, iter_ctr = goldenopt(g, x_l_init, x_u_init, tolerance, max_iter)\n",
        "print(\"Final Solution is: \", x_f)\n",
        "print(\"Iteration counter: \", iter_ctr)\n"
      ],
      "metadata": {
        "colab": {
          "base_uri": "https://localhost:8080/"
        },
        "id": "SW7qztKhgEJ5",
        "outputId": "0df4814c-b46e-496c-9cf7-66919bc9402b"
      },
      "execution_count": null,
      "outputs": [
        {
          "output_type": "stream",
          "name": "stdout",
          "text": [
            "0 -1 -0.236 0.236 1\n",
            "1 -1 -0.527848 -0.23615200000000003 0.236\n",
            "2 -1 -0.708210064 -0.527941936 -0.23615200000000003\n",
            "3 -1 -0.8196738195519999 -0.708268116448 -0.527941936\n",
            "4 -1 -0.888558420483136 -0.819709695964864 -0.708268116448\n",
            "5 -1 -0.931129103858578 -0.8885805921062859 -0.819709695964864\n",
            "Final Solution is:  -0.9442834450215896\n",
            "Iteration counter:  6\n"
          ]
        }
      ]
    },
    {
      "cell_type": "code",
      "source": [
        "# Minimize f(x)=x^9+ 4x^7+9x^6+x^4+2x^3+1 within the interval (0,1) using Golden section method.\n",
        "\n",
        "\n",
        "import numpy as np\n",
        "g = lambda x: (x)**9 + 4*(x)**7 + 9*(x)**6 + (x)**4 + 2*(x)**3 +1\n",
        "def goldenopt(f,x_l, x_u, tol, max_iter):\n",
        "    iter_ctr = 0\n",
        "    while (x_u-x_l)>tol and iter_ctr<max_iter:\n",
        "        x_r1 = x_u - 0.618*(x_u - x_l)\n",
        "        x_r2 = x_l + 0.618*(x_u - x_l)\n",
        "        print(iter_ctr, x_l, x_r1, x_r2, x_u)\n",
        "        if f(x_r2) <= f(x_r1):\n",
        "            x_u = x_r2\n",
        "            x_r2 = x_r1\n",
        "            x_r1 = x_u - 0.618*(x_u - x_l)\n",
        "        else:\n",
        "            x_l = x_r1\n",
        "            x_r1 = x_r2\n",
        "            x_r2  = x_l + 0.618*(x_u - x_l)\n",
        "        iter_ctr = iter_ctr + 1\n",
        "    return (x_r1 + x_r2)/2.0, iter_ctr\n",
        "    \n",
        "x_l_init = 0\n",
        "x_u_init = 1\n",
        "tolerance = 0.15\n",
        "                        \n",
        "max_iter = 100\n",
        "x_f, iter_ctr = goldenopt(g, x_l_init, x_u_init, tolerance, max_iter)\n",
        "print(\"Final Solution is: \", x_f)\n",
        "print(\"Iteration counter: \", iter_ctr)\n"
      ],
      "metadata": {
        "colab": {
          "base_uri": "https://localhost:8080/"
        },
        "id": "lh9T6z-KgXsL",
        "outputId": "01ec6a59-60f9-4963-d997-1ff82a31eba0"
      },
      "execution_count": null,
      "outputs": [
        {
          "output_type": "stream",
          "name": "stdout",
          "text": [
            "0 0 0.382 0.618 1\n",
            "1 0.382 0.6180760000000001 0.763924 1\n",
            "2 0.6180760000000001 0.7639709680000001 0.854105032 1\n",
            "3 0.7639709680000001 0.854134058224 0.9098369097760001 1\n",
            "Final Solution is:  0.9270580600087841\n",
            "Iteration counter:  4\n"
          ]
        }
      ]
    },
    {
      "cell_type": "code",
      "source": [
        "# Minimize f(x)=e^x+〖2x〗^9+x^3+x+1 within the interval (-1,1) using Golden section method.\n",
        "\n",
        "\n",
        "\n",
        "import numpy as np\n",
        "g = lambda x: np.exp(4*x) + 2*(x)**9 + (x)*6 + 9*(x) +1\n",
        "def goldenopt(f,x_l, x_u, tol, max_iter):\n",
        "    iter_ctr = 0\n",
        "    while (x_u-x_l)>tol and iter_ctr<max_iter:\n",
        "        x_r1 = x_u - 0.618*(x_u - x_l)\n",
        "        x_r2 = x_l + 0.618*(x_u - x_l)\n",
        "        print(iter_ctr, x_l, x_r1, x_r2, x_u)\n",
        "        if f(x_r2) <= f(x_r1):\n",
        "            x_u = x_r2\n",
        "            x_r2 = x_r1\n",
        "            x_r1 = x_u - 0.618*(x_u - x_l)\n",
        "        else:\n",
        "            x_l = x_r1\n",
        "            x_r1 = x_r2\n",
        "            x_r2  = x_l + 0.618*(x_u - x_l)\n",
        "        iter_ctr = iter_ctr + 1\n",
        "    return (x_r1 + x_r2)/2.0, iter_ctr\n",
        "    \n",
        "x_l_init = -3\n",
        "x_u_init = 5\n",
        "tolerance = 0.15\n",
        "                        \n",
        "max_iter = 100\n",
        "x_f, iter_ctr = goldenopt(g, x_l_init, x_u_init, tolerance, max_iter)\n",
        "print(\"Final Solution is: \", x_f)\n",
        "print(\"Iteration counter: \", iter_ctr)\n"
      ],
      "metadata": {
        "colab": {
          "base_uri": "https://localhost:8080/"
        },
        "id": "l_eMl-cmgj41",
        "outputId": "fdb95c18-691c-4072-c2ac-80980f059fb5"
      },
      "execution_count": null,
      "outputs": [
        {
          "output_type": "stream",
          "name": "stdout",
          "text": [
            "0 -3 0.05600000000000005 1.944 5\n",
            "1 0.05600000000000005 1.9446080000000001 3.111392 5\n",
            "2 1.9446080000000001 3.111767744 3.832840256 5\n",
            "3 3.111767744 3.833072465792 4.278695278208 5\n",
            "4 3.833072465792 4.278838783859456 4.554233681932544 5\n",
            "5 4.278838783859456 4.554322368425144 4.724516415434312 5\n",
            "6 4.554322368425144 4.7245712236867385 4.829751144738405 5\n",
            "7 4.7245712236867385 4.829785016238405 4.894786207448334 5\n",
            "8 4.829785016238405 4.894807140035334 4.934977876203071 5\n",
            "Final Solution is:  4.947397101848284\n",
            "Iteration counter:  9\n"
          ]
        }
      ]
    }
  ]
}